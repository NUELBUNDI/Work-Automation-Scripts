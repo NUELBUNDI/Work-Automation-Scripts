{
  "nbformat": 4,
  "nbformat_minor": 0,
  "metadata": {
    "colab": {
      "name": "Employee Attrition.ipynb",
      "private_outputs": true,
      "provenance": [],
      "authorship_tag": "ABX9TyOvU5qDKB+Bv5mMwetP/xR6",
      "include_colab_link": true
    },
    "kernelspec": {
      "name": "python3",
      "display_name": "Python 3"
    },
    "language_info": {
      "name": "python"
    }
  },
  "cells": [
    {
      "cell_type": "markdown",
      "metadata": {
        "id": "view-in-github",
        "colab_type": "text"
      },
      "source": [
        "<a href=\"https://colab.research.google.com/github/NUELBUNDI/Work-Automation-Scripts/blob/main/Employee_Attrition.ipynb\" target=\"_parent\"><img src=\"https://colab.research.google.com/assets/colab-badge.svg\" alt=\"Open In Colab\"/></a>"
      ]
    },
    {
      "cell_type": "code",
      "execution_count": null,
      "metadata": {
        "id": "KjHtFtohOYLX"
      },
      "outputs": [],
      "source": [
        "import pandas as pd\n",
        "import numpy as np\n",
        "import seaborn as sns\n",
        "import plotly.express as px\n",
        "import matplotlib.pyplot as plt\n",
        "plt.rcParams[\"figure.figsize\"] = (10,8)\n",
        "plt.style.use('ggplot')"
      ]
    },
    {
      "cell_type": "code",
      "source": [
        "# Read the data\n",
        "\n",
        "df= pd.read_csv('https://raw.githubusercontent.com/NUELBUNDI/Machine-Learning-Data-Set/main/Employee-Attrition.csv')\n",
        "\n",
        "df.columns=df.columns.str.lower()"
      ],
      "metadata": {
        "id": "xd-01pJLzdjy"
      },
      "execution_count": null,
      "outputs": []
    },
    {
      "cell_type": "markdown",
      "source": [
        "# Exploratory Data Analysis\n",
        "\n",
        "- Steps Include:\n",
        "\n",
        "1. Eye balling the data\n",
        "2. Univariate Analyis\n",
        "3. Bivariate Analysis\n",
        "4. Multivariate Analysis"
      ],
      "metadata": {
        "id": "rvq2EZlJzh7W"
      }
    },
    {
      "cell_type": "code",
      "source": [
        "row , col = df.shape\n",
        "\n",
        "print(f'The number of rows is {row}\\nThe Number of columns is {col}')"
      ],
      "metadata": {
        "id": "XOjhr1Hiz5gv"
      },
      "execution_count": null,
      "outputs": []
    },
    {
      "cell_type": "code",
      "source": [
        "# Numerical vs Categorical Columns\n",
        "numerical_cols= df.select_dtypes(include=np.number).columns.to_list()\n",
        "\n",
        "categorical_cols=df.select_dtypes('object').columns.to_list()\n",
        "\n",
        "print(f'The number of numerical columns are {len(numerical_cols)}\\nThe number of categorical columns are {len(categorical_cols)}')\n"
      ],
      "metadata": {
        "id": "H_1M7t2s0L9_"
      },
      "execution_count": null,
      "outputs": []
    },
    {
      "cell_type": "code",
      "source": [
        "# Check for missing values\n",
        "\n",
        "print(df.isnull().sum())"
      ],
      "metadata": {
        "id": "76qTPKDX1wsA"
      },
      "execution_count": null,
      "outputs": []
    },
    {
      "cell_type": "code",
      "source": [
        "# Unique values per each feature\n",
        "\n",
        "df.nunique().sort_values(ascending=False).plot(kind='barh',title='Unique values per feature')"
      ],
      "metadata": {
        "id": "0eNZotCI2Srv"
      },
      "execution_count": null,
      "outputs": []
    },
    {
      "cell_type": "code",
      "source": [
        "# Check the balance of the data\n",
        "\n",
        "sns.countplot(data=df,x='attrition')\n",
        "plt.title('Target Count')\n",
        "plt.show()\n",
        "\n",
        "# --A problem with the Imbalance of the data"
      ],
      "metadata": {
        "id": "UCDxyvaB3M2I"
      },
      "execution_count": null,
      "outputs": []
    },
    {
      "cell_type": "code",
      "source": [
        "#The Distribution\n",
        "\n",
        "df[numerical_cols].plot(kind='box')"
      ],
      "metadata": {
        "id": "6AgG5nEa48-P"
      },
      "execution_count": null,
      "outputs": []
    },
    {
      "cell_type": "code",
      "source": [
        "# The skewness ofc the Distribution\n",
        "df[numerical_cols].skew().sort_values(ascending=False).to_frame().reset_index().rename(columns={'index':'Column',0:'skew_value'})\n",
        "\n",
        "#---Need for transformation "
      ],
      "metadata": {
        "id": "F3ddovNe_khu"
      },
      "execution_count": null,
      "outputs": []
    },
    {
      "cell_type": "code",
      "source": [
        "df['numcompaniesworked'].plot(kind='hist')"
      ],
      "metadata": {
        "id": "IWxgmiuA_3Xj"
      },
      "execution_count": null,
      "outputs": []
    },
    {
      "cell_type": "markdown",
      "source": [
        "##Univariate Analysis\n",
        "\n",
        "- Measures of central tendency -Mean, mode and median\n",
        "- Data Variation and dispersion\n",
        "- Standard deviation\n",
        "\n",
        "Tools to use include:\n",
        "\n",
        "Categorical - Use barchat, piechart\n",
        "Numerical- line plot, strip plot, swarmplot,density plot,box plot, violin plot.\n"
      ],
      "metadata": {
        "id": "Kp907ZMLCcXe"
      }
    },
    {
      "cell_type": "code",
      "source": [
        "# Age distribution\n",
        "\n",
        "# plt.scatter(y=df.index,x=df['age'])\n",
        "\n",
        "sns.scatterplot(data=df,y=df.index, x ='age',hue='gender')\n",
        "plt.show()\n",
        "\n",
        "# no clear pattern of distribution of age"
      ],
      "metadata": {
        "id": "rPAlryXHINmf"
      },
      "execution_count": null,
      "outputs": []
    },
    {
      "cell_type": "code",
      "source": [
        "# Line plot\n",
        "sns.lineplot(data=df, x=df.index, y='age',hue='gender')\n",
        "\n",
        "# Not a clear visualization due to many data points"
      ],
      "metadata": {
        "id": "fTMEam3BJppA"
      },
      "execution_count": null,
      "outputs": []
    },
    {
      "cell_type": "code",
      "source": [
        "# Striplot\n",
        "\n",
        "sns.stripplot(y=df.age,x=df.maritalstatus)\n",
        "plt.show()\n",
        "\n",
        "# Show  Married and divorced are age of 20 and above"
      ],
      "metadata": {
        "id": "5OUzB1rpKXGp"
      },
      "execution_count": null,
      "outputs": []
    },
    {
      "cell_type": "code",
      "source": [
        "sns.swarmplot(y=df.age,x=df.gender)\n",
        "plt.show()\n",
        "\n",
        "# More Male at every age than Female"
      ],
      "metadata": {
        "id": "4a5UymBOLKjN"
      },
      "execution_count": null,
      "outputs": []
    },
    {
      "cell_type": "code",
      "source": [
        "# Histogram of age\n",
        "plt.hist(df.age)\n",
        "plt.show()\n",
        "# normal distribution\n",
        "#"
      ],
      "metadata": {
        "id": "_O-_XBU2MePo"
      },
      "execution_count": null,
      "outputs": []
    },
    {
      "cell_type": "code",
      "source": [
        "# Density plot of age \n",
        "df['age'].plot(kind='density')\n",
        "# Show the pdf"
      ],
      "metadata": {
        "id": "a2JOdeUNM1a_"
      },
      "execution_count": null,
      "outputs": []
    },
    {
      "cell_type": "code",
      "source": [
        "# Distplot\n",
        "sns.displot(df.age,rug=True)"
      ],
      "metadata": {
        "id": "6vp6VGboNXjy"
      },
      "execution_count": null,
      "outputs": []
    },
    {
      "cell_type": "code",
      "source": [
        "# Violin Plot\n",
        "sns.violinplot(y=df.age,x=df.maritalstatus)\n",
        "plt.show()"
      ],
      "metadata": {
        "id": "3BquMSXlN0x8"
      },
      "execution_count": null,
      "outputs": []
    },
    {
      "cell_type": "code",
      "source": [
        "df['jobrole'].value_counts().plot(kind='barh',title='Distribution by Job Role')\n",
        "plt.show()\n",
        "\n",
        "#Lab tech , reaserch Scientiest and Sales Executive  make majority of employee @ 60%"
      ],
      "metadata": {
        "id": "4y6y7h02OhsU"
      },
      "execution_count": null,
      "outputs": []
    },
    {
      "cell_type": "code",
      "source": [
        "# Percentage values\n",
        "df['jobrole'].value_counts()*100/len(df['jobrole'])"
      ],
      "metadata": {
        "id": "2LjUV5c4PtAc"
      },
      "execution_count": null,
      "outputs": []
    },
    {
      "cell_type": "code",
      "source": [
        "df['gender'].value_counts().plot(kind='pie', autopct='%.2f',legend=True,title='Distribution of Gender'),\n",
        "plt.show()\n",
        "\n",
        "# More Male than Female "
      ],
      "metadata": {
        "id": "UwZm11-9SUt-"
      },
      "execution_count": null,
      "outputs": []
    },
    {
      "cell_type": "code",
      "source": [
        "df.educationfield.value_counts().plot(kind='bar',title='Education field')\n",
        "plt.show()\n",
        "\n",
        "# Medical and life science are mjor domain of study"
      ],
      "metadata": {
        "id": "dwTgyNzKTTXz"
      },
      "execution_count": null,
      "outputs": []
    },
    {
      "cell_type": "code",
      "source": [
        "px.bar(df, x='educationfield',color='attrition',\n",
        "           title='Stacked bar of EducationField vs Attrition')\n",
        "\n",
        "# It makes sense that Life science and Medical domaine loss more people since they are majority."
      ],
      "metadata": {
        "id": "5wL7OqmYT02j"
      },
      "execution_count": null,
      "outputs": []
    },
    {
      "cell_type": "markdown",
      "source": [
        "# Bivariate Analysis\n",
        "\n",
        "- Which is the highest paid domain\n",
        "- Btw male and female who are the highest paid\n",
        "- Salary distribution vs the attrition\n",
        "- Correlation bwt Age and Salary Age and performance ,Age and total working year\n",
        "\n",
        "- Environmental Satification and Job role  include Gender\n",
        "\n",
        "- Environmental Satisfication and Maritual status\n",
        "\n",
        "- Attrition and Maritual status\n",
        "\n",
        "- What job role has the highest churn hint: num of companies worked \n",
        "\n",
        "- Who are the most royal employess? what role and salary are they earninng?\n",
        "\n",
        "- Is they any relationship btw no of years with current manager and CHURN\n",
        "\n",
        "- iS they any relationship btw no of years with current manager and job leve \n",
        "satissfication?\n",
        "\n",
        "- What is the minimum years of working with same manager?\n",
        "\n",
        "- Is they relationship btw traveling and relatuionship satisfaction marital status."
      ],
      "metadata": {
        "id": "SSh-BdFMVBLn"
      }
    },
    {
      "cell_type": "code",
      "source": [
        "df.groupby('educationfield')['monthlyrate'].sum().sort_values(ascending=False).plot(kind='pie',autopct='%.2f',title='Total Salary vs Education field')\n",
        "plt.show()"
      ],
      "metadata": {
        "id": "aYFotr7dUkZa"
      },
      "execution_count": null,
      "outputs": []
    },
    {
      "cell_type": "code",
      "source": [
        "df.pivot_table(index='educationfield',aggfunc={'monthlyrate':'sum'}).sort_values(by='monthlyrate',ascending=False)"
      ],
      "metadata": {
        "id": "qK1_LQzAaGrR"
      },
      "execution_count": null,
      "outputs": []
    },
    {
      "cell_type": "code",
      "source": [
        ""
      ],
      "metadata": {
        "id": "ySqZ1rCFeKn0"
      },
      "execution_count": null,
      "outputs": []
    }
  ]
}