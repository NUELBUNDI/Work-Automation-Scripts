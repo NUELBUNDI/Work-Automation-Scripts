{
  "nbformat": 4,
  "nbformat_minor": 0,
  "metadata": {
    "colab": {
      "name": "CreditCardReconciliation.ipynb",
      "provenance": [],
      "collapsed_sections": [],
      "authorship_tag": "ABX9TyNUTq6Omtgra8VN7oYVjou0",
      "include_colab_link": true
    },
    "kernelspec": {
      "name": "python3",
      "display_name": "Python 3"
    },
    "language_info": {
      "name": "python"
    }
  },
  "cells": [
    {
      "cell_type": "markdown",
      "metadata": {
        "id": "view-in-github",
        "colab_type": "text"
      },
      "source": [
        "<a href=\"https://colab.research.google.com/github/NUELBUNDI/Work-Automation-Scripts/blob/main/CreditCardReconciliation.ipynb\" target=\"_parent\"><img src=\"https://colab.research.google.com/assets/colab-badge.svg\" alt=\"Open In Colab\"/></a>"
      ]
    },
    {
      "cell_type": "code",
      "execution_count": null,
      "metadata": {
        "id": "4r_aNVEvQPzL"
      },
      "outputs": [],
      "source": [
        "import pandas as pd\n",
        "import numpy as np\n",
        "import seaborn as sns\n",
        "import matplotlib.pyplot as plt\n",
        "\n"
      ]
    },
    {
      "cell_type": "code",
      "source": [
        "df=pd.read_csv(\"Equitycard.csv\")\n",
        "df2=pd.read_csv(\"B303050.csv\")\n",
        "absa=pd.read_csv(\"Absa.csv\")\n",
        "absa_pos_code=pd.read_csv(\"absa_pos_branch_code.csv\")"
      ],
      "metadata": {
        "id": "efzh08H_Qr1o"
      },
      "execution_count": null,
      "outputs": []
    },
    {
      "cell_type": "code",
      "source": [
        "def format_bank_entries():\n",
        "    df.columns=df.columns.str.replace(' ','')\n",
        "    df.drop(columns=['Settlementdate','Accountnumber','Merchantname','TRANS_TYPE','Cashback','Cashbackfee','Cashbackcomm','Currency','Rrn','Tid','Siccode'],inplace=True)\n",
        "    # df.dropna(inplace=True)\n",
        "    df['check']=df['Cardnumber'].str[-4:]\n",
        "    # df['Postingdate']=pd.to_datetime(df['Postingdate'])\n",
        "    # df['date']=df['Transdate'].dt.date\n",
        "    df.rename(columns={'Transamount':'amount'},inplace=True)\n",
        "    df['amount']=df['amount'].str.replace(',','').astype('float')\n",
        "    return df\n",
        "df=format_bank_entries()"
      ],
      "metadata": {
        "id": "VnaWh5yBQdnt"
      },
      "execution_count": null,
      "outputs": []
    },
    {
      "cell_type": "code",
      "source": [
        "def format_bc_entries():  \n",
        "    df2.columns=df2.columns.str.replace(' ','')\n",
        "    df2.drop(columns=['SourceCode','DocumentType',\\\n",
        "        'DepartmentCode','Amount','DimensionSetID','Bal.AccountNo.',\\\n",
        "            'Bal.AccountType','BankAccountNo.','Description','ExternalDocumentNo.','DrawerName','Open','EntryNo.'],inplace=True)\n",
        "    df2['check']=df2['CreditCardNo.'].str[-4:]\n",
        "    df2.rename(columns={'Amount(LCY)':'amount'},inplace=True)\n",
        "    df2['Amount']=df2['amount']\n",
        "    df2['amount']=df2['amount'].str.replace(',','').astype('float')\n",
        "    return df2\n",
        "\n",
        "df2=format_bc_entries()"
      ],
      "metadata": {
        "id": "cJe9WUEGQhRY"
      },
      "execution_count": null,
      "outputs": []
    },
    {
      "cell_type": "code",
      "source": [
        "def format_absa_bank_entries():\n",
        "    absa.columns=absa.columns.str.replace(' ','')\n",
        "    absa.drop(columns=['LOCATION_NO','LEGAL_NAME','PROCESSING_DATE','PAYMENT_DATE','TERMINAL_ID',\\\n",
        "                    'AUTH_ID','TRXN_TYPE','CURRENCY','PMNT_TYPE','TRXN_SOURCE','SCHEME',\\\n",
        "                        'COMMERCIAL_NAME','ARN_REFERENCE','RETRIEVAL_REF_NO','TIP_AMOUNT',\\\n",
        "                        'CARD_PRESENT' ],inplace=True)\n",
        "    absa['check']=absa['CARD_NO'].str[-4:]\n",
        "    absanew=pd.merge(absa,absa_pos_code,how='left',on=['ACCOUNT_NO'])\n",
        "    absanew.rename(columns={'AMOUNT':'amount'},inplace=True)\n",
        "    absanew['Amount']=absanew['amount']\n",
        "    absanew['amount']=absanew['amount'].replace(',','').astype('float')\n",
        "    return absanew\n",
        "absanew=format_absa_bank_entries()"
      ],
      "metadata": {
        "id": "K5kFtA5hQjTE"
      },
      "execution_count": null,
      "outputs": []
    },
    {
      "cell_type": "code",
      "source": [
        "equity_reconciliation=pd.merge(df,df2,how='left',on=['check','amount'])\n",
        "equity_reconciliation.to_csv('equity_reconciliation.csv')"
      ],
      "metadata": {
        "id": "P9Y3MP5IQltL"
      },
      "execution_count": null,
      "outputs": []
    },
    {
      "cell_type": "code",
      "source": [
        "absa_reconcilation=pd.merge(absanew,df2,how='left',on=['check','amount'])\n",
        "\n",
        "absa_reconcilation.to_csv('absa_reconcilation.csv')"
      ],
      "metadata": {
        "id": "SlaSVv6FQnuz"
      },
      "execution_count": null,
      "outputs": []
    }
  ]
}