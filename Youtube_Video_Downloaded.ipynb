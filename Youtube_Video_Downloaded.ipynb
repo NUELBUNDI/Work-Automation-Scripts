{
  "nbformat": 4,
  "nbformat_minor": 0,
  "metadata": {
    "colab": {
      "private_outputs": true,
      "provenance": [],
      "mount_file_id": "1jYUbupugabAyiQxqEbO6sYqwOnbcb749",
      "authorship_tag": "ABX9TyN9jIH7lcC2SGkq4s52iXYW",
      "include_colab_link": true
    },
    "kernelspec": {
      "name": "python3",
      "display_name": "Python 3"
    },
    "language_info": {
      "name": "python"
    }
  },
  "cells": [
    {
      "cell_type": "markdown",
      "metadata": {
        "id": "view-in-github",
        "colab_type": "text"
      },
      "source": [
        "<a href=\"https://colab.research.google.com/github/NUELBUNDI/Work-Automation-Scripts/blob/main/Youtube_Video_Downloaded.ipynb\" target=\"_parent\"><img src=\"https://colab.research.google.com/assets/colab-badge.svg\" alt=\"Open In Colab\"/></a>"
      ]
    },
    {
      "cell_type": "code",
      "source": [
        "from pytube import YouTube\n",
        "\n",
        "link_list = ['https://www.youtube.com/watch?v=IYMYI9AJpQs&list=PLoROMvodv4rObpMCir6rNNUlFAn56Js20&index=2',\n",
        "       'https://www.youtube.com/watch?v=nH4rn3X8i0c&list=PLoROMvodv4rObpMCir6rNNUlFAn56Js20&index=3',\n",
        "        'https://www.youtube.com/watch?v=pip8h9vjTHY&list=PLoROMvodv4rObpMCir6rNNUlFAn56Js20&index=4',\n",
        "        'https://www.youtube.com/watch?v=O1Xh3H1uEYY&list=PLoROMvodv4rObpMCir6rNNUlFAn56Js20&index=5',\n",
        "        'https://www.youtube.com/watch?v=6-4pJt1M18s&list=PLoROMvodv4rObpMCir6rNNUlFAn56Js20&index=6n',\n",
        "        'https://www.youtube.com/watch?v=pO3Jsr31s_Q&list=PLoROMvodv4rObpMCir6rNNUlFAn56Js20&index=7',\n",
        "        'https://www.youtube.com/watch?v=M_VPUF9ResU&list=PLoROMvodv4rObpMCir6rNNUlFAn56Js20&index=8',\n",
        "        'https://www.youtube.com/watch?v=JXtH_ABQFX0&list=PLoROMvodv4rObpMCir6rNNUlFAn56Js20&index=9',\n",
        "        'https://www.youtube.com/watch?v=7b2_3dDTKMc&list=PLoROMvodv4rObpMCir6rNNUlFAn56Js20&index=10',\n",
        "        'https://www.youtube.com/watch?v=C5bdflsg7rs&list=PLoROMvodv4rObpMCir6rNNUlFAn56Js20&index=11',\n",
        "        'https://www.youtube.com/watch?v=3UGti9Ju5j8&list=PLoROMvodv4rObpMCir6rNNUlFAn56Js20&index=12',\n",
        "        'https://www.youtube.com/watch?v=YygGzfkhtJc&list=PLoROMvodv4rObpMCir6rNNUlFAn56Js20&index=13',\n",
        "        'https://www.youtube.com/watch?v=lzBB7xoZ3Q8&list=PLoROMvodv4rObpMCir6rNNUlFAn56Js20&index=14',\n",
        "        'https://www.youtube.com/watch?v=WXLb4h2A724&list=PLoROMvodv4rObpMCir6rNNUlFAn56Js20&index=15']\n",
        "\n",
        "for link in link_list:\n",
        "    yt = YouTube(link)  \n",
        "\n",
        "    try:\n",
        "        yt.streams.filter(progressive = True, \n",
        "    file_extension = \"mp4\").order_by('resolution').desc().first().download(output_path =\"/content/drive/MyDrive/Colab Notebooks/Data/NLP AND NEURAL NETWORKS LECTURES\", \n",
        "    filename = f'{yt.title}.mp4')\n",
        "    except:\n",
        "        print(\"Some Error!\")\n",
        "    print('Task Completed!')"
      ],
      "metadata": {
        "id": "Bvkiye0WYArV"
      },
      "execution_count": null,
      "outputs": []
    }
  ]
}